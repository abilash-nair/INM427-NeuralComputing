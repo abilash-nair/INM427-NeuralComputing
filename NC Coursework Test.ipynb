{
 "cells": [
  {
   "cell_type": "markdown",
   "metadata": {},
   "source": [
    "# Neural Computing Coursework - Testing Notebook"
   ]
  },
  {
   "cell_type": "code",
   "execution_count": 1,
   "metadata": {},
   "outputs": [],
   "source": [
    "import pandas as pd\n",
    "import matplotlib.pyplot as plt\n",
    "import numpy as np\n",
    "import seaborn as sns\n",
    "import scipy.stats as ss\n",
    "from sklearn.model_selection import train_test_split \n",
    "from sklearn.preprocessing import StandardScaler\n",
    "import torch\n",
    "from torch import nn\n",
    "import torch.nn.functional as F\n",
    "device = 'cpu'\n",
    "import math\n",
    "from skorch import NeuralNetClassifier\n",
    "from skorch.callbacks import EarlyStopping\n",
    "from sklearn.metrics import accuracy_score\n",
    "from imblearn.over_sampling import SMOTE\n",
    "from collections import Counter\n",
    "import torch.optim as optim\n",
    "from sklearn.model_selection import RandomizedSearchCV\n",
    "from sklearn.metrics import classification_report\n",
    "from sklearn.model_selection import cross_validate\n",
    "from joblib import dump, load\n",
    "from sklearn.datasets import make_classification\n",
    "from sklearn.metrics import confusion_matrix, ConfusionMatrixDisplay\n",
    "from sklearn.svm import SVC\n",
    "from sklearn.model_selection import cross_val_score"
   ]
  },
  {
   "cell_type": "markdown",
   "metadata": {},
   "source": [
    "Preprocessing"
   ]
  },
  {
   "cell_type": "code",
   "execution_count": 2,
   "metadata": {},
   "outputs": [],
   "source": [
    "data = pd.read_csv('dermatology.csv')\n",
    "data.columns = data.columns.str.lstrip()\n",
    "data = data.replace('?',np.nan )\n",
    "data['Age'] = pd.to_numeric(data['Age'])\n",
    "mean_age = data['Age'].mean()\n",
    "data['Age'] = data['Age'].replace(np.nan, mean_age)\n",
    "\n",
    "data_vars = data.iloc[:,:-1]\n",
    "data_labels = data.iloc[:, -1].values\n",
    "data_labels = data_labels - 1\n",
    "\n",
    "data_vars = data_vars.astype(np.float32)\n",
    "data_vars = data_vars.to_numpy()\n",
    "data_labels = data_labels.astype(np.int64)"
   ]
  },
  {
   "cell_type": "code",
   "execution_count": 3,
   "metadata": {},
   "outputs": [],
   "source": [
    "x_train, x_test, y_train, y_test = train_test_split(data_vars, data_labels, test_size = 0.25, train_size = 0.75, random_state = 42)\n",
    "\n",
    "scaler = StandardScaler()\n",
    "scaler.fit(data_vars)\n",
    "data_scale_fit = scaler.transform(data_vars)\n",
    "data_x_smote_scale_fit, data_y_smote_scale_fit = SMOTE().fit_resample(data_scale_fit, data_labels)\n",
    "\n",
    "scaler = StandardScaler()\n",
    "scaler.fit(x_train)\n",
    "x_train_scaled = scaler.transform(x_train)\n",
    "x_test_scaled = scaler.transform(x_test)\n",
    "\n",
    "x_smote_sampled, y_smote_sampled = SMOTE().fit_resample(x_train_scaled, y_train)"
   ]
  },
  {
   "cell_type": "markdown",
   "metadata": {},
   "source": [
    "## MLP Model"
   ]
  },
  {
   "cell_type": "code",
   "execution_count": 4,
   "metadata": {},
   "outputs": [],
   "source": [
    "input_layer_dim=34\n",
    "hidden_layer_dim=10\n",
    "output_layer_dim=6"
   ]
  },
  {
   "cell_type": "code",
   "execution_count": 5,
   "metadata": {},
   "outputs": [],
   "source": [
    "class TunedClassifierModule(nn.Module):\n",
    "    def __init__(\n",
    "            self,\n",
    "            input_dim=input_layer_dim,\n",
    "            hidden_dim=hidden_layer_dim,\n",
    "            output_dim=output_layer_dim,\n",
    "            dropout=0.5,\n",
    "    ):\n",
    "        super(TunedClassifierModule, self).__init__()\n",
    "        self.dropout = nn.Dropout(dropout)\n",
    "\n",
    "        self.hidden = nn.Linear(input_dim, hidden_dim)\n",
    "        self.output = nn.Linear(hidden_dim, output_dim)\n",
    "\n",
    "    def forward(self, X, **kwargs):\n",
    "        X = F.relu(self.hidden(X))\n",
    "        X = self.dropout(X)\n",
    "        X = F.softmax(self.output(X), dim=-1)\n",
    "        return X"
   ]
  },
  {
   "cell_type": "markdown",
   "metadata": {},
   "source": [
    "Load the MLP model"
   ]
  },
  {
   "cell_type": "code",
   "execution_count": 6,
   "metadata": {},
   "outputs": [],
   "source": [
    "mlp = load('derm_MLP_tuned_model.joblib') "
   ]
  },
  {
   "cell_type": "code",
   "execution_count": 7,
   "metadata": {},
   "outputs": [
    {
     "name": "stdout",
     "output_type": "stream",
     "text": [
      "Re-initializing module because the following parameters were re-set: dropout.\n",
      "Re-initializing optimizer because the following parameters were re-set: momentum, weight_decay.\n",
      "  epoch    train_loss    valid_acc    valid_loss     dur\n",
      "-------  ------------  -----------  ------------  ------\n",
      "      1        \u001b[36m1.7898\u001b[0m       \u001b[32m0.3191\u001b[0m        \u001b[35m1.7582\u001b[0m  0.2421\n",
      "      2        \u001b[36m1.7296\u001b[0m       \u001b[32m0.5532\u001b[0m        \u001b[35m1.6167\u001b[0m  0.0100\n",
      "      3        \u001b[36m1.5388\u001b[0m       \u001b[32m0.7128\u001b[0m        \u001b[35m1.4150\u001b[0m  0.0090\n",
      "      4        \u001b[36m1.3840\u001b[0m       \u001b[32m0.7872\u001b[0m        \u001b[35m1.3100\u001b[0m  0.0070\n",
      "      5        \u001b[36m1.2870\u001b[0m       \u001b[32m0.9574\u001b[0m        \u001b[35m1.1966\u001b[0m  0.0110\n",
      "      6        \u001b[36m1.1655\u001b[0m       0.9468        \u001b[35m1.1174\u001b[0m  0.0110\n",
      "      7        \u001b[36m1.0963\u001b[0m       0.9574        \u001b[35m1.0947\u001b[0m  0.0080\n",
      "      8        \u001b[36m1.0689\u001b[0m       \u001b[32m0.9787\u001b[0m        \u001b[35m1.0803\u001b[0m  0.0120\n",
      "      9        \u001b[36m1.0618\u001b[0m       0.9574        \u001b[35m1.0797\u001b[0m  0.0100\n",
      "     10        \u001b[36m1.0575\u001b[0m       0.9681        1.0814  0.0100\n",
      "     11        \u001b[36m1.0562\u001b[0m       0.9681        1.0803  0.0080\n",
      "     12        \u001b[36m1.0552\u001b[0m       0.9681        \u001b[35m1.0790\u001b[0m  0.0100\n",
      "     13        \u001b[36m1.0547\u001b[0m       0.9681        \u001b[35m1.0785\u001b[0m  0.0120\n",
      "     14        \u001b[36m1.0542\u001b[0m       0.9681        \u001b[35m1.0784\u001b[0m  0.0092\n",
      "     15        \u001b[36m1.0538\u001b[0m       0.9681        \u001b[35m1.0782\u001b[0m  0.0090\n",
      "     16        \u001b[36m1.0535\u001b[0m       0.9681        \u001b[35m1.0777\u001b[0m  0.0090\n"
     ]
    },
    {
     "name": "stderr",
     "output_type": "stream",
     "text": [
      "C:\\Users\\nairx108\\anaconda3\\lib\\site-packages\\torch\\autograd\\__init__.py:145: UserWarning: CUDA initialization: The NVIDIA driver on your system is too old (found version 8000). Please update your GPU driver by downloading and installing a new version from the URL: http://www.nvidia.com/Download/index.aspx Alternatively, go to: https://pytorch.org to install a PyTorch version that has been compiled with your version of the CUDA driver. (Triggered internally at  ..\\c10\\cuda\\CUDAFunctions.cpp:109.)\n",
      "  Variable._execution_engine.run_backward(\n"
     ]
    },
    {
     "name": "stdout",
     "output_type": "stream",
     "text": [
      "     17        \u001b[36m1.0531\u001b[0m       0.9681        \u001b[35m1.0773\u001b[0m  0.0170\n",
      "     18        \u001b[36m1.0528\u001b[0m       0.9681        \u001b[35m1.0771\u001b[0m  0.0110\n",
      "     19        \u001b[36m1.0525\u001b[0m       0.9681        \u001b[35m1.0770\u001b[0m  0.0120\n",
      "     20        \u001b[36m1.0523\u001b[0m       0.9681        \u001b[35m1.0768\u001b[0m  0.0120\n",
      "     21        \u001b[36m1.0520\u001b[0m       0.9681        \u001b[35m1.0767\u001b[0m  0.0120\n",
      "     22        \u001b[36m1.0518\u001b[0m       0.9681        \u001b[35m1.0766\u001b[0m  0.0080\n",
      "     23        \u001b[36m1.0516\u001b[0m       0.9681        \u001b[35m1.0765\u001b[0m  0.0100\n",
      "     24        \u001b[36m1.0514\u001b[0m       0.9681        \u001b[35m1.0764\u001b[0m  0.0120\n",
      "     25        \u001b[36m1.0513\u001b[0m       0.9681        1.0764  0.0100\n",
      "     26        \u001b[36m1.0511\u001b[0m       0.9681        \u001b[35m1.0764\u001b[0m  0.0100\n",
      "     27        \u001b[36m1.0510\u001b[0m       0.9681        \u001b[35m1.0764\u001b[0m  0.0090\n",
      "     28        \u001b[36m1.0509\u001b[0m       0.9681        \u001b[35m1.0763\u001b[0m  0.0110\n",
      "     29        \u001b[36m1.0508\u001b[0m       0.9681        \u001b[35m1.0762\u001b[0m  0.0090\n",
      "     30        \u001b[36m1.0507\u001b[0m       0.9681        \u001b[35m1.0761\u001b[0m  0.0080\n",
      "     31        \u001b[36m1.0506\u001b[0m       0.9681        \u001b[35m1.0761\u001b[0m  0.0110\n",
      "     32        \u001b[36m1.0505\u001b[0m       0.9681        \u001b[35m1.0759\u001b[0m  0.0110\n"
     ]
    },
    {
     "data": {
      "text/plain": [
       "<class 'skorch.classifier.NeuralNetClassifier'>[initialized](\n",
       "  module_=TunedClassifierModule(\n",
       "    (dropout): Dropout(p=0, inplace=False)\n",
       "    (hidden): Linear(in_features=34, out_features=10, bias=True)\n",
       "    (output): Linear(in_features=10, out_features=6, bias=True)\n",
       "  ),\n",
       ")"
      ]
     },
     "execution_count": 7,
     "metadata": {},
     "output_type": "execute_result"
    }
   ],
   "source": [
    "mlp.fit(x_smote_sampled, y_smote_sampled)"
   ]
  },
  {
   "cell_type": "markdown",
   "metadata": {},
   "source": [
    "Evaluate model on test set"
   ]
  },
  {
   "cell_type": "code",
   "execution_count": 8,
   "metadata": {},
   "outputs": [
    {
     "data": {
      "text/plain": [
       "0.9782608695652174"
      ]
     },
     "execution_count": 8,
     "metadata": {},
     "output_type": "execute_result"
    }
   ],
   "source": [
    "y_pred = mlp.predict(x_test_scaled)\n",
    "\n",
    "accuracy_score(y_test, y_pred)"
   ]
  },
  {
   "cell_type": "code",
   "execution_count": 9,
   "metadata": {},
   "outputs": [
    {
     "name": "stdout",
     "output_type": "stream",
     "text": [
      "              precision    recall  f1-score   support\n",
      "\n",
      "           0       1.00      1.00      1.00        34\n",
      "           1       0.86      1.00      0.92        12\n",
      "           2       1.00      1.00      1.00        17\n",
      "           3       1.00      0.82      0.90        11\n",
      "           4       1.00      1.00      1.00        14\n",
      "           5       1.00      1.00      1.00         4\n",
      "\n",
      "    accuracy                           0.98        92\n",
      "   macro avg       0.98      0.97      0.97        92\n",
      "weighted avg       0.98      0.98      0.98        92\n",
      "\n"
     ]
    }
   ],
   "source": [
    "print(classification_report(y_test, y_pred))"
   ]
  },
  {
   "cell_type": "code",
   "execution_count": 10,
   "metadata": {},
   "outputs": [
    {
     "data": {
      "text/plain": [
       "<sklearn.metrics._plot.confusion_matrix.ConfusionMatrixDisplay at 0x13fea77ba00>"
      ]
     },
     "execution_count": 10,
     "metadata": {},
     "output_type": "execute_result"
    },
    {
     "data": {
      "image/png": "[encoded data removed]",
      "text/plain": [
       "<Figure size 432x288 with 2 Axes>"
      ]
     },
     "metadata": {
      "needs_background": "light"
     },
     "output_type": "display_data"
    }
   ],
   "source": [
    "plot_labels = [0, 1, 2, 3, 4, 5]\n",
    "cm = confusion_matrix(y_test, y_pred, labels=plot_labels)\n",
    "disp = ConfusionMatrixDisplay(confusion_matrix=cm,display_labels=plot_labels)\n",
    "disp.plot() "
   ]
  },
  {
   "cell_type": "markdown",
   "metadata": {},
   "source": [
    "## SVM Model"
   ]
  },
  {
   "cell_type": "code",
   "execution_count": 11,
   "metadata": {},
   "outputs": [],
   "source": [
    "svc = load('derm_SVC_tuned_model.joblib') "
   ]
  },
  {
   "cell_type": "code",
   "execution_count": 12,
   "metadata": {},
   "outputs": [
    {
     "data": {
      "text/plain": [
       "SVC(C=100, gamma=0.01, kernel='linear', random_state=0)"
      ]
     },
     "execution_count": 12,
     "metadata": {},
     "output_type": "execute_result"
    }
   ],
   "source": [
    "svc.fit(x_smote_sampled, y_smote_sampled)"
   ]
  },
  {
   "cell_type": "code",
   "execution_count": 13,
   "metadata": {},
   "outputs": [
    {
     "data": {
      "text/plain": [
       "0.9891304347826086"
      ]
     },
     "execution_count": 13,
     "metadata": {},
     "output_type": "execute_result"
    }
   ],
   "source": [
    "y_pred = svc.predict(x_test_scaled)\n",
    "\n",
    "accuracy_score(y_test, y_pred)"
   ]
  },
  {
   "cell_type": "code",
   "execution_count": 14,
   "metadata": {},
   "outputs": [
    {
     "name": "stdout",
     "output_type": "stream",
     "text": [
      "              precision    recall  f1-score   support\n",
      "\n",
      "           0       1.00      1.00      1.00        34\n",
      "           1       0.92      1.00      0.96        12\n",
      "           2       1.00      1.00      1.00        17\n",
      "           3       1.00      0.91      0.95        11\n",
      "           4       1.00      1.00      1.00        14\n",
      "           5       1.00      1.00      1.00         4\n",
      "\n",
      "    accuracy                           0.99        92\n",
      "   macro avg       0.99      0.98      0.99        92\n",
      "weighted avg       0.99      0.99      0.99        92\n",
      "\n"
     ]
    }
   ],
   "source": [
    "print(classification_report(y_test, y_pred))"
   ]
  },
  {
   "cell_type": "code",
   "execution_count": 15,
   "metadata": {},
   "outputs": [
    {
     "data": {
      "text/plain": [
       "<sklearn.metrics._plot.confusion_matrix.ConfusionMatrixDisplay at 0x13fea9d8eb0>"
      ]
     },
     "execution_count": 15,
     "metadata": {},
     "output_type": "execute_result"
    },
    {
     "data": {
      "image/png": "[encoded data removed]",
      "text/plain": [
       "<Figure size 432x288 with 2 Axes>"
      ]
     },
     "metadata": {
      "needs_background": "light"
     },
     "output_type": "display_data"
    }
   ],
   "source": [
    "cm = confusion_matrix(y_test, y_pred)\n",
    "disp = ConfusionMatrixDisplay(confusion_matrix=cm,display_labels=plot_labels)\n",
    "disp.plot() "
   ]
  },
  {
   "cell_type": "markdown",
   "metadata": {},
   "source": [
    "## Cross Validation for MLP and SVC"
   ]
  },
  {
   "cell_type": "markdown",
   "metadata": {},
   "source": [
    "MLP"
   ]
  },
  {
   "cell_type": "code",
   "execution_count": 16,
   "metadata": {},
   "outputs": [
    {
     "name": "stdout",
     "output_type": "stream",
     "text": [
      "  epoch    train_loss    valid_acc    valid_loss     dur\n",
      "-------  ------------  -----------  ------------  ------\n",
      "      1        \u001b[36m1.7857\u001b[0m       \u001b[32m0.4628\u001b[0m        \u001b[35m1.7246\u001b[0m  0.0100\n",
      "      2        \u001b[36m1.6495\u001b[0m       \u001b[32m0.8347\u001b[0m        \u001b[35m1.4139\u001b[0m  0.0120\n",
      "      3        \u001b[36m1.3279\u001b[0m       \u001b[32m0.9339\u001b[0m        \u001b[35m1.2242\u001b[0m  0.0110\n",
      "      4        \u001b[36m1.2218\u001b[0m       0.8760        \u001b[35m1.1672\u001b[0m  0.0130\n",
      "      5        \u001b[36m1.1919\u001b[0m       \u001b[32m0.9669\u001b[0m        \u001b[35m1.0852\u001b[0m  0.0120\n",
      "      6        \u001b[36m1.0724\u001b[0m       0.9669        \u001b[35m1.0778\u001b[0m  0.0130\n",
      "      7        \u001b[36m1.0603\u001b[0m       0.9669        1.0800  0.0110\n",
      "      8        \u001b[36m1.0567\u001b[0m       0.9669        1.0795  0.0100\n",
      "      9        \u001b[36m1.0551\u001b[0m       0.9587        1.0787  0.0110\n",
      "     10        \u001b[36m1.0546\u001b[0m       0.9587        1.0780  0.0130\n",
      "     11        \u001b[36m1.0542\u001b[0m       0.9587        \u001b[35m1.0774\u001b[0m  0.0120\n",
      "     12        \u001b[36m1.0538\u001b[0m       0.9587        \u001b[35m1.0770\u001b[0m  0.0140\n",
      "     13        \u001b[36m1.0534\u001b[0m       0.9587        \u001b[35m1.0767\u001b[0m  0.0130\n",
      "     14        \u001b[36m1.0529\u001b[0m       0.9587        1.0769  0.0120\n",
      "     15        \u001b[36m1.0520\u001b[0m       0.9587        1.0777  0.0120\n",
      "     16        \u001b[36m1.0505\u001b[0m       0.9587        1.0783  0.0100\n",
      "     17        \u001b[36m1.0498\u001b[0m       0.9587        1.0784  0.0100\n",
      "Stopping since valid_loss has not improved in the last 5 epochs.\n",
      "  epoch    train_loss    valid_acc    valid_loss     dur\n",
      "-------  ------------  -----------  ------------  ------\n",
      "      1        \u001b[36m1.7704\u001b[0m       \u001b[32m0.5041\u001b[0m        \u001b[35m1.6935\u001b[0m  0.0080\n",
      "      2        \u001b[36m1.6384\u001b[0m       \u001b[32m0.7107\u001b[0m        \u001b[35m1.4840\u001b[0m  0.0155\n",
      "      3        \u001b[36m1.3986\u001b[0m       \u001b[32m0.9504\u001b[0m        \u001b[35m1.1900\u001b[0m  0.0170\n",
      "      4        \u001b[36m1.1669\u001b[0m       0.8926        \u001b[35m1.1497\u001b[0m  0.0120\n",
      "      5        \u001b[36m1.1326\u001b[0m       0.9504        \u001b[35m1.1021\u001b[0m  0.0140\n",
      "      6        \u001b[36m1.0844\u001b[0m       \u001b[32m0.9587\u001b[0m        \u001b[35m1.0922\u001b[0m  0.0150\n",
      "      7        \u001b[36m1.0602\u001b[0m       0.9587        \u001b[35m1.0889\u001b[0m  0.0110\n",
      "      8        1.0623       \u001b[32m0.9669\u001b[0m        \u001b[35m1.0817\u001b[0m  0.0150\n",
      "      9        \u001b[36m1.0547\u001b[0m       0.9587        \u001b[35m1.0807\u001b[0m  0.0150\n",
      "     10        \u001b[36m1.0528\u001b[0m       0.9587        \u001b[35m1.0802\u001b[0m  0.0120\n",
      "     11        \u001b[36m1.0511\u001b[0m       0.9669        \u001b[35m1.0792\u001b[0m  0.0120\n",
      "     12        \u001b[36m1.0503\u001b[0m       0.9669        \u001b[35m1.0787\u001b[0m  0.0190\n",
      "     13        \u001b[36m1.0497\u001b[0m       0.9669        \u001b[35m1.0784\u001b[0m  0.0110\n",
      "     14        \u001b[36m1.0494\u001b[0m       0.9669        \u001b[35m1.0782\u001b[0m  0.0150\n",
      "     15        \u001b[36m1.0491\u001b[0m       0.9669        \u001b[35m1.0781\u001b[0m  0.0180\n",
      "     16        \u001b[36m1.0490\u001b[0m       \u001b[32m0.9752\u001b[0m        \u001b[35m1.0781\u001b[0m  0.0120\n",
      "     17        \u001b[36m1.0489\u001b[0m       0.9752        \u001b[35m1.0781\u001b[0m  0.0120\n",
      "     18        \u001b[36m1.0488\u001b[0m       0.9752        1.0781  0.0140\n",
      "     19        \u001b[36m1.0487\u001b[0m       0.9752        1.0781  0.0110\n",
      "     20        \u001b[36m1.0487\u001b[0m       0.9752        1.0782  0.0120\n",
      "Stopping since valid_loss has not improved in the last 5 epochs.\n",
      "  epoch    train_loss    valid_acc    valid_loss     dur\n",
      "-------  ------------  -----------  ------------  ------\n",
      "      1        \u001b[36m1.7914\u001b[0m       \u001b[32m0.4876\u001b[0m        \u001b[35m1.6948\u001b[0m  0.0130\n",
      "      2        \u001b[36m1.6192\u001b[0m       \u001b[32m0.6860\u001b[0m        \u001b[35m1.4852\u001b[0m  0.0130\n",
      "      3        \u001b[36m1.4000\u001b[0m       \u001b[32m0.7190\u001b[0m        \u001b[35m1.2952\u001b[0m  0.0110\n",
      "      4        \u001b[36m1.2740\u001b[0m       \u001b[32m0.8099\u001b[0m        \u001b[35m1.2415\u001b[0m  0.0120\n",
      "      5        \u001b[36m1.2364\u001b[0m       \u001b[32m0.8264\u001b[0m        \u001b[35m1.2038\u001b[0m  0.0110\n",
      "      6        \u001b[36m1.2270\u001b[0m       \u001b[32m0.9504\u001b[0m        \u001b[35m1.1660\u001b[0m  0.0100\n",
      "      7        \u001b[36m1.1684\u001b[0m       0.9421        \u001b[35m1.1264\u001b[0m  0.0130\n",
      "      8        \u001b[36m1.1126\u001b[0m       \u001b[32m0.9835\u001b[0m        \u001b[35m1.0719\u001b[0m  0.0100\n",
      "      9        \u001b[36m1.0657\u001b[0m       0.9835        \u001b[35m1.0655\u001b[0m  0.0120\n",
      "     10        \u001b[36m1.0536\u001b[0m       0.9835        \u001b[35m1.0635\u001b[0m  0.0121\n",
      "     11        1.0538       0.9835        1.0637  0.0110\n",
      "     12        \u001b[36m1.0521\u001b[0m       0.9835        1.0639  0.0110\n",
      "     13        \u001b[36m1.0510\u001b[0m       0.9835        1.0638  0.0110\n",
      "     14        \u001b[36m1.0502\u001b[0m       0.9835        1.0639  0.0130\n",
      "Stopping since valid_loss has not improved in the last 5 epochs.\n",
      "  epoch    train_loss    valid_acc    valid_loss     dur\n",
      "-------  ------------  -----------  ------------  ------\n",
      "      1        \u001b[36m1.7912\u001b[0m       \u001b[32m0.4050\u001b[0m        \u001b[35m1.7473\u001b[0m  0.0120\n",
      "      2        \u001b[36m1.7264\u001b[0m       \u001b[32m0.6860\u001b[0m        \u001b[35m1.5714\u001b[0m  0.0110\n",
      "      3        \u001b[36m1.4688\u001b[0m       \u001b[32m0.7273\u001b[0m        \u001b[35m1.3052\u001b[0m  0.0120\n",
      "      4        \u001b[36m1.3053\u001b[0m       \u001b[32m0.7934\u001b[0m        \u001b[35m1.2580\u001b[0m  0.0130\n",
      "      5        \u001b[36m1.2208\u001b[0m       \u001b[32m0.9421\u001b[0m        \u001b[35m1.1654\u001b[0m  0.0110\n",
      "      6        \u001b[36m1.1465\u001b[0m       \u001b[32m0.9752\u001b[0m        \u001b[35m1.0953\u001b[0m  0.0120\n",
      "      7        \u001b[36m1.0740\u001b[0m       \u001b[32m0.9835\u001b[0m        \u001b[35m1.0694\u001b[0m  0.0110\n",
      "      8        \u001b[36m1.0624\u001b[0m       \u001b[32m0.9917\u001b[0m        \u001b[35m1.0627\u001b[0m  0.0110\n",
      "      9        \u001b[36m1.0580\u001b[0m       0.9917        1.0635  0.0100\n",
      "     10        \u001b[36m1.0549\u001b[0m       0.9752        1.0648  0.0120\n",
      "     11        \u001b[36m1.0537\u001b[0m       0.9752        1.0660  0.0110\n",
      "     12        \u001b[36m1.0528\u001b[0m       0.9752        1.0671  0.0120\n",
      "Stopping since valid_loss has not improved in the last 5 epochs.\n",
      "  epoch    train_loss    valid_acc    valid_loss     dur\n",
      "-------  ------------  -----------  ------------  ------\n",
      "      1        \u001b[36m1.7904\u001b[0m       \u001b[32m0.5041\u001b[0m        \u001b[35m1.7144\u001b[0m  0.0100\n",
      "      2        \u001b[36m1.6055\u001b[0m       \u001b[32m0.6777\u001b[0m        \u001b[35m1.5003\u001b[0m  0.0100\n",
      "      3        \u001b[36m1.4550\u001b[0m       \u001b[32m0.8843\u001b[0m        \u001b[35m1.2761\u001b[0m  0.0110\n",
      "      4        \u001b[36m1.2203\u001b[0m       \u001b[32m0.8926\u001b[0m        \u001b[35m1.1415\u001b[0m  0.0110\n",
      "      5        \u001b[36m1.1209\u001b[0m       \u001b[32m0.9835\u001b[0m        \u001b[35m1.0814\u001b[0m  0.0110\n",
      "      6        \u001b[36m1.0717\u001b[0m       \u001b[32m0.9917\u001b[0m        \u001b[35m1.0616\u001b[0m  0.0110\n",
      "      7        \u001b[36m1.0579\u001b[0m       0.9835        1.0628  0.0110\n",
      "      8        \u001b[36m1.0565\u001b[0m       0.9835        1.0632  0.0110\n",
      "      9        \u001b[36m1.0534\u001b[0m       0.9835        1.0650  0.0110\n",
      "     10        \u001b[36m1.0517\u001b[0m       0.9752        1.0678  0.0100\n",
      "Stopping since valid_loss has not improved in the last 5 epochs.\n",
      "  epoch    train_loss    valid_acc    valid_loss     dur\n",
      "-------  ------------  -----------  ------------  ------\n",
      "      1        \u001b[36m1.7555\u001b[0m       \u001b[32m0.6281\u001b[0m        \u001b[35m1.6057\u001b[0m  0.0090\n",
      "      2        \u001b[36m1.5096\u001b[0m       \u001b[32m0.6612\u001b[0m        \u001b[35m1.3475\u001b[0m  0.0120\n",
      "      3        \u001b[36m1.3278\u001b[0m       0.6612        \u001b[35m1.3297\u001b[0m  0.0110\n",
      "      4        \u001b[36m1.3053\u001b[0m       \u001b[32m0.7851\u001b[0m        \u001b[35m1.2860\u001b[0m  0.0160\n",
      "      5        \u001b[36m1.2532\u001b[0m       \u001b[32m0.8512\u001b[0m        \u001b[35m1.1970\u001b[0m  0.0120\n",
      "      6        \u001b[36m1.1839\u001b[0m       \u001b[32m0.8678\u001b[0m        \u001b[35m1.1898\u001b[0m  0.0100\n",
      "      7        \u001b[36m1.1793\u001b[0m       \u001b[32m0.9091\u001b[0m        \u001b[35m1.1710\u001b[0m  0.0100\n",
      "      8        \u001b[36m1.1604\u001b[0m       \u001b[32m0.9587\u001b[0m        \u001b[35m1.1536\u001b[0m  0.0140\n",
      "      9        \u001b[36m1.1444\u001b[0m       0.9587        \u001b[35m1.1372\u001b[0m  0.0090\n",
      "     10        \u001b[36m1.1252\u001b[0m       0.9587        \u001b[35m1.1205\u001b[0m  0.0090\n",
      "     11        \u001b[36m1.1077\u001b[0m       \u001b[32m0.9752\u001b[0m        \u001b[35m1.1061\u001b[0m  0.0106\n",
      "     12        \u001b[36m1.0929\u001b[0m       \u001b[32m0.9835\u001b[0m        \u001b[35m1.0962\u001b[0m  0.0100\n",
      "     13        \u001b[36m1.0821\u001b[0m       0.9752        \u001b[35m1.0905\u001b[0m  0.0110\n",
      "     14        \u001b[36m1.0747\u001b[0m       0.9752        \u001b[35m1.0874\u001b[0m  0.0110\n",
      "     15        \u001b[36m1.0697\u001b[0m       0.9752        \u001b[35m1.0857\u001b[0m  0.0120\n",
      "     16        \u001b[36m1.0661\u001b[0m       0.9752        \u001b[35m1.0847\u001b[0m  0.0130\n",
      "     17        \u001b[36m1.0633\u001b[0m       0.9752        \u001b[35m1.0841\u001b[0m  0.0100\n",
      "     18        \u001b[36m1.0611\u001b[0m       0.9752        \u001b[35m1.0836\u001b[0m  0.0120\n",
      "     19        \u001b[36m1.0595\u001b[0m       0.9752        \u001b[35m1.0831\u001b[0m  0.0110\n",
      "     20        \u001b[36m1.0581\u001b[0m       0.9752        \u001b[35m1.0827\u001b[0m  0.0100\n",
      "     21        \u001b[36m1.0569\u001b[0m       0.9752        \u001b[35m1.0823\u001b[0m  0.0120\n",
      "     22        \u001b[36m1.0559\u001b[0m       0.9752        \u001b[35m1.0820\u001b[0m  0.0110\n",
      "     23        \u001b[36m1.0550\u001b[0m       0.9752        \u001b[35m1.0817\u001b[0m  0.0110\n",
      "     24        \u001b[36m1.0543\u001b[0m       0.9752        \u001b[35m1.0815\u001b[0m  0.0100\n",
      "     25        \u001b[36m1.0536\u001b[0m       0.9752        \u001b[35m1.0813\u001b[0m  0.0110\n",
      "     26        \u001b[36m1.0529\u001b[0m       0.9752        \u001b[35m1.0811\u001b[0m  0.0100\n",
      "     27        \u001b[36m1.0523\u001b[0m       0.9752        \u001b[35m1.0810\u001b[0m  0.0110\n",
      "     28        \u001b[36m1.0517\u001b[0m       0.9752        \u001b[35m1.0808\u001b[0m  0.0110\n",
      "     29        \u001b[36m1.0508\u001b[0m       0.9752        \u001b[35m1.0803\u001b[0m  0.0090\n",
      "     30        \u001b[36m1.0499\u001b[0m       0.9752        \u001b[35m1.0790\u001b[0m  0.0150\n",
      "     31        \u001b[36m1.0493\u001b[0m       0.9752        \u001b[35m1.0773\u001b[0m  0.0110\n",
      "     32        \u001b[36m1.0489\u001b[0m       0.9835        \u001b[35m1.0761\u001b[0m  0.0110\n",
      "  epoch    train_loss    valid_acc    valid_loss     dur\n",
      "-------  ------------  -----------  ------------  ------\n",
      "      1        \u001b[36m1.7652\u001b[0m       \u001b[32m0.5041\u001b[0m        \u001b[35m1.6395\u001b[0m  0.0100\n",
      "      2        \u001b[36m1.5637\u001b[0m       \u001b[32m0.6612\u001b[0m        \u001b[35m1.4906\u001b[0m  0.0160\n",
      "      3        \u001b[36m1.4597\u001b[0m       \u001b[32m0.7851\u001b[0m        \u001b[35m1.3313\u001b[0m  0.0110\n",
      "      4        \u001b[36m1.2812\u001b[0m       \u001b[32m0.8264\u001b[0m        \u001b[35m1.2162\u001b[0m  0.0100\n",
      "      5        \u001b[36m1.1977\u001b[0m       0.8264        \u001b[35m1.2014\u001b[0m  0.0110\n",
      "      6        \u001b[36m1.1916\u001b[0m       \u001b[32m0.8430\u001b[0m        \u001b[35m1.1823\u001b[0m  0.0110\n",
      "      7        \u001b[36m1.1848\u001b[0m       0.8430        \u001b[35m1.1757\u001b[0m  0.0100\n",
      "      8        \u001b[36m1.1594\u001b[0m       \u001b[32m0.9339\u001b[0m        \u001b[35m1.1319\u001b[0m  0.0100\n",
      "      9        \u001b[36m1.1058\u001b[0m       \u001b[32m0.9669\u001b[0m        \u001b[35m1.0862\u001b[0m  0.0120\n",
      "     10        \u001b[36m1.0739\u001b[0m       0.9669        \u001b[35m1.0822\u001b[0m  0.0160\n",
      "     11        \u001b[36m1.0646\u001b[0m       0.9587        1.0846  0.0090\n",
      "     12        \u001b[36m1.0613\u001b[0m       0.9669        \u001b[35m1.0800\u001b[0m  0.0110\n",
      "     13        \u001b[36m1.0575\u001b[0m       0.9587        \u001b[35m1.0796\u001b[0m  0.0110\n",
      "     14        \u001b[36m1.0548\u001b[0m       0.9587        1.0833  0.0090\n",
      "     15        \u001b[36m1.0538\u001b[0m       0.9587        1.0842  0.0090\n",
      "     16        \u001b[36m1.0530\u001b[0m       0.9587        1.0846  0.0120\n",
      "     17        \u001b[36m1.0524\u001b[0m       0.9587        1.0863  0.0110\n",
      "Stopping since valid_loss has not improved in the last 5 epochs.\n",
      "  epoch    train_loss    valid_acc    valid_loss     dur\n",
      "-------  ------------  -----------  ------------  ------\n",
      "      1        \u001b[36m1.7874\u001b[0m       \u001b[32m0.4132\u001b[0m        \u001b[35m1.7295\u001b[0m  0.0090\n",
      "      2        \u001b[36m1.6735\u001b[0m       \u001b[32m0.7851\u001b[0m        \u001b[35m1.4968\u001b[0m  0.0120\n",
      "      3        \u001b[36m1.4339\u001b[0m       \u001b[32m0.8017\u001b[0m        \u001b[35m1.2622\u001b[0m  0.0120\n",
      "      4        \u001b[36m1.2377\u001b[0m       \u001b[32m0.8347\u001b[0m        \u001b[35m1.1935\u001b[0m  0.0100\n",
      "      5        \u001b[36m1.1787\u001b[0m       \u001b[32m0.9587\u001b[0m        \u001b[35m1.1375\u001b[0m  0.0100\n",
      "      6        \u001b[36m1.1055\u001b[0m       \u001b[32m0.9835\u001b[0m        \u001b[35m1.0781\u001b[0m  0.0110\n",
      "      7        \u001b[36m1.0710\u001b[0m       0.9835        \u001b[35m1.0626\u001b[0m  0.0100\n",
      "      8        \u001b[36m1.0586\u001b[0m       0.9835        \u001b[35m1.0609\u001b[0m  0.0090\n",
      "      9        \u001b[36m1.0559\u001b[0m       0.9835        1.0619  0.0100\n",
      "     10        \u001b[36m1.0550\u001b[0m       0.9835        1.0629  0.0130\n",
      "     11        \u001b[36m1.0544\u001b[0m       0.9835        1.0636  0.0100\n",
      "     12        \u001b[36m1.0539\u001b[0m       0.9835        1.0642  0.0100\n",
      "Stopping since valid_loss has not improved in the last 5 epochs.\n",
      "  epoch    train_loss    valid_acc    valid_loss     dur\n",
      "-------  ------------  -----------  ------------  ------\n",
      "      1        \u001b[36m1.7891\u001b[0m       \u001b[32m0.5785\u001b[0m        \u001b[35m1.7362\u001b[0m  0.0100\n",
      "      2        \u001b[36m1.6825\u001b[0m       \u001b[32m0.8760\u001b[0m        \u001b[35m1.5119\u001b[0m  0.0110\n",
      "      3        \u001b[36m1.4475\u001b[0m       0.8512        \u001b[35m1.2616\u001b[0m  0.0110\n",
      "      4        \u001b[36m1.2112\u001b[0m       \u001b[32m0.9669\u001b[0m        \u001b[35m1.1280\u001b[0m  0.0100\n",
      "      5        \u001b[36m1.0940\u001b[0m       0.9504        \u001b[35m1.0977\u001b[0m  0.0110\n",
      "      6        \u001b[36m1.0763\u001b[0m       0.9669        \u001b[35m1.0786\u001b[0m  0.0110\n",
      "      7        \u001b[36m1.0624\u001b[0m       0.9669        \u001b[35m1.0761\u001b[0m  0.0100\n",
      "      8        \u001b[36m1.0560\u001b[0m       \u001b[32m0.9752\u001b[0m        1.0761  0.0100\n",
      "      9        \u001b[36m1.0554\u001b[0m       0.9752        \u001b[35m1.0737\u001b[0m  0.0140\n",
      "     10        \u001b[36m1.0544\u001b[0m       0.9752        1.0738  0.0100\n",
      "     11        \u001b[36m1.0534\u001b[0m       0.9669        1.0755  0.0120\n",
      "     12        \u001b[36m1.0529\u001b[0m       0.9669        1.0760  0.0140\n",
      "     13        \u001b[36m1.0524\u001b[0m       0.9669        1.0760  0.0110\n",
      "Stopping since valid_loss has not improved in the last 5 epochs.\n",
      "  epoch    train_loss    valid_acc    valid_loss     dur\n",
      "-------  ------------  -----------  ------------  ------\n",
      "      1        \u001b[36m1.7879\u001b[0m       \u001b[32m0.5289\u001b[0m        \u001b[35m1.6798\u001b[0m  0.0100\n",
      "      2        \u001b[36m1.6293\u001b[0m       \u001b[32m0.7851\u001b[0m        \u001b[35m1.5123\u001b[0m  0.0120\n",
      "      3        \u001b[36m1.4269\u001b[0m       \u001b[32m0.8099\u001b[0m        \u001b[35m1.2608\u001b[0m  0.0170\n",
      "      4        \u001b[36m1.2246\u001b[0m       \u001b[32m0.8264\u001b[0m        \u001b[35m1.1960\u001b[0m  0.0140\n",
      "      5        \u001b[36m1.1831\u001b[0m       \u001b[32m0.9587\u001b[0m        \u001b[35m1.1454\u001b[0m  0.0100\n",
      "      6        \u001b[36m1.1143\u001b[0m       0.9421        \u001b[35m1.1148\u001b[0m  0.0100\n",
      "      7        \u001b[36m1.0896\u001b[0m       \u001b[32m0.9835\u001b[0m        \u001b[35m1.0699\u001b[0m  0.0090\n",
      "      8        \u001b[36m1.0688\u001b[0m       0.9752        \u001b[35m1.0672\u001b[0m  0.0090\n",
      "      9        \u001b[36m1.0621\u001b[0m       0.9835        \u001b[35m1.0654\u001b[0m  0.0100\n",
      "     10        \u001b[36m1.0579\u001b[0m       0.9835        \u001b[35m1.0652\u001b[0m  0.0100\n",
      "     11        \u001b[36m1.0561\u001b[0m       0.9752        1.0684  0.0100\n",
      "     12        \u001b[36m1.0545\u001b[0m       0.9752        1.0709  0.0100\n",
      "     13        \u001b[36m1.0540\u001b[0m       0.9752        1.0711  0.0100\n",
      "     14        \u001b[36m1.0534\u001b[0m       0.9752        1.0717  0.0090\n",
      "Stopping since valid_loss has not improved in the last 5 epochs.\n"
     ]
    }
   ],
   "source": [
    "mlp_scores = cross_validate(mlp, data_x_smote_scale_fit, data_y_smote_scale_fit, scoring='accuracy', cv=10)"
   ]
  },
  {
   "cell_type": "code",
   "execution_count": 17,
   "metadata": {},
   "outputs": [
    {
     "name": "stdout",
     "output_type": "stream",
     "text": [
      "Test Score after 10 fold k validation: 98.218%\n"
     ]
    }
   ],
   "source": [
    "print(\"Test Score after 10 fold k validation: {:.3f}%\".format(mlp_scores['test_score'].mean()*100))"
   ]
  },
  {
   "cell_type": "markdown",
   "metadata": {},
   "source": [
    "SVC"
   ]
  },
  {
   "cell_type": "code",
   "execution_count": 18,
   "metadata": {},
   "outputs": [],
   "source": [
    "svc_scores = cross_validate(svc, data_x_smote_scale_fit, data_y_smote_scale_fit, scoring='accuracy', cv=10)"
   ]
  },
  {
   "cell_type": "code",
   "execution_count": 19,
   "metadata": {},
   "outputs": [
    {
     "name": "stdout",
     "output_type": "stream",
     "text": [
      "Test Score after 10 fold k validation: 99.405%\n"
     ]
    }
   ],
   "source": [
    "print(\"Test Score after 10 fold k validation: {:.3f}%\".format(svc_scores['test_score'].mean()*100))"
   ]
  },
  {
   "cell_type": "code",
   "execution_count": null,
   "metadata": {},
   "outputs": [],
   "source": []
  }
 ],
 "metadata": {
  "kernelspec": {
   "display_name": "Python 3",
   "language": "python",
   "name": "python3"
  },
  "language_info": {
   "codemirror_mode": {
    "name": "ipython",
    "version": 3
   },
   "file_extension": ".py",
   "mimetype": "text/x-python",
   "name": "python",
   "nbconvert_exporter": "python",
   "pygments_lexer": "ipython3",
   "version": "3.8.5"
  }
 },
 "nbformat": 4,
 "nbformat_minor": 4
}
